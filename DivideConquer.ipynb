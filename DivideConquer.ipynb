{
 "cells": [
  {
   "cell_type": "markdown",
   "metadata": {},
   "source": [
    "# Sorting by Divide and Conquer (Merge Sort)\n",
    "\n",
    "*Lecture 2: February 21, 2024*"
   ]
  },
  {
   "cell_type": "markdown",
   "metadata": {},
   "source": [
    "- Divide the problem into a number of subproblems that are smaller instances of the same problem\n",
    "- Conquer the subproblems by solving them recursively.\n",
    "- Combine the subproblem solutions to give a solution to the original problem"
   ]
  },
  {
   "cell_type": "code",
   "execution_count": 1,
   "metadata": {},
   "outputs": [],
   "source": [
    "import random"
   ]
  },
  {
   "cell_type": "markdown",
   "metadata": {},
   "source": [
    "### Intento sin ver solución"
   ]
  },
  {
   "cell_type": "code",
   "execution_count": 15,
   "metadata": {},
   "outputs": [],
   "source": [
    "def DivideConquer(array):\n"
   ]
  },
  {
   "cell_type": "code",
   "execution_count": 9,
   "metadata": {},
   "outputs": [
    {
     "name": "stdout",
     "output_type": "stream",
     "text": [
      "Random number list is : [34, 14, 27, 19, 4, 1, 28, 13, 38, 31]\n"
     ]
    }
   ],
   "source": [
    "A = random.sample(range(1, 50), 10) # Array\n",
    "print (\"Random number list is : \" +  str(A))\n",
    "\n",
    "\n",
    "print(\"Sorted list is : \" + str(DivideConquer(A)))"
   ]
  }
 ],
 "metadata": {
  "kernelspec": {
   "display_name": ".venv",
   "language": "python",
   "name": "python3"
  },
  "language_info": {
   "codemirror_mode": {
    "name": "ipython",
    "version": 3
   },
   "file_extension": ".py",
   "mimetype": "text/x-python",
   "name": "python",
   "nbconvert_exporter": "python",
   "pygments_lexer": "ipython3",
   "version": "3.9.6"
  }
 },
 "nbformat": 4,
 "nbformat_minor": 2
}
